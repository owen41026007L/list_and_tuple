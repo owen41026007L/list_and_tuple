{
 "cells": [
  {
   "cell_type": "code",
   "execution_count": 13,
   "id": "5472b783",
   "metadata": {},
   "outputs": [],
   "source": [
    "number=[1, 2, 3, 4, 5, 6]\n",
    "#list"
   ]
  },
  {
   "cell_type": "code",
   "execution_count": 14,
   "id": "cb6308e7",
   "metadata": {},
   "outputs": [
    {
     "name": "stdout",
     "output_type": "stream",
     "text": [
      "6\n"
     ]
    }
   ],
   "source": [
    "print(len(number))"
   ]
  },
  {
   "cell_type": "code",
   "execution_count": 15,
   "id": "f60fcda8",
   "metadata": {},
   "outputs": [],
   "source": [
    "number=[1, 2, 3, 4, 5, 6, 7]"
   ]
  },
  {
   "cell_type": "code",
   "execution_count": 16,
   "id": "fe0aa072",
   "metadata": {},
   "outputs": [
    {
     "name": "stdout",
     "output_type": "stream",
     "text": [
      "7\n"
     ]
    }
   ],
   "source": [
    "print(len(number))"
   ]
  },
  {
   "cell_type": "code",
   "execution_count": 17,
   "id": "19ef83d9",
   "metadata": {},
   "outputs": [],
   "source": [
    "number=[2, 3, 4, 5, 6, 7]"
   ]
  },
  {
   "cell_type": "code",
   "execution_count": 18,
   "id": "bb4fc0b5",
   "metadata": {},
   "outputs": [
    {
     "name": "stdout",
     "output_type": "stream",
     "text": [
      "6\n"
     ]
    }
   ],
   "source": [
    "print(len(number))"
   ]
  },
  {
   "cell_type": "code",
   "execution_count": 20,
   "id": "0ee79b8f",
   "metadata": {},
   "outputs": [],
   "source": [
    "number.sort()"
   ]
  },
  {
   "cell_type": "code",
   "execution_count": 21,
   "id": "3f56587e",
   "metadata": {},
   "outputs": [
    {
     "ename": "NameError",
     "evalue": "name 'Ture' is not defined",
     "output_type": "error",
     "traceback": [
      "\u001b[1;31m---------------------------------------------------------------------------\u001b[0m",
      "\u001b[1;31mNameError\u001b[0m                                 Traceback (most recent call last)",
      "Cell \u001b[1;32mIn[21], line 1\u001b[0m\n\u001b[1;32m----> 1\u001b[0m number\u001b[38;5;241m.\u001b[39msort(reverse\u001b[38;5;241m=\u001b[39mTure)\n",
      "\u001b[1;31mNameError\u001b[0m: name 'Ture' is not defined"
     ]
    }
   ],
   "source": [
    "number.sort(reverse=Ture)"
   ]
  },
  {
   "cell_type": "code",
   "execution_count": 22,
   "id": "30f7c713",
   "metadata": {},
   "outputs": [
    {
     "data": {
      "text/plain": [
       "4"
      ]
     },
     "execution_count": 22,
     "metadata": {},
     "output_type": "execute_result"
    }
   ],
   "source": [
    "number[2]"
   ]
  },
  {
   "cell_type": "code",
   "execution_count": 24,
   "id": "fce081b6",
   "metadata": {},
   "outputs": [
    {
     "name": "stdout",
     "output_type": "stream",
     "text": [
      "True\n"
     ]
    }
   ],
   "source": [
    "print(3 in number)"
   ]
  },
  {
   "cell_type": "code",
   "execution_count": 25,
   "id": "2116e1b6",
   "metadata": {},
   "outputs": [
    {
     "data": {
      "text/plain": [
       "[3]"
      ]
     },
     "execution_count": 25,
     "metadata": {},
     "output_type": "execute_result"
    }
   ],
   "source": [
    "number[1: 3: 2]"
   ]
  },
  {
   "cell_type": "code",
   "execution_count": 28,
   "id": "6eeb3247",
   "metadata": {},
   "outputs": [],
   "source": [
    "z=[5, 6, 7, 8]\n",
    "y=tuple(z)"
   ]
  },
  {
   "cell_type": "code",
   "execution_count": 29,
   "id": "95c0f520",
   "metadata": {},
   "outputs": [
    {
     "name": "stdout",
     "output_type": "stream",
     "text": [
      "True\n"
     ]
    }
   ],
   "source": [
    "print(7 in z)"
   ]
  },
  {
   "cell_type": "code",
   "execution_count": null,
   "id": "92988523",
   "metadata": {},
   "outputs": [],
   "source": [
    "zz"
   ]
  }
 ],
 "metadata": {
  "kernelspec": {
   "display_name": "Python 3 (ipykernel)",
   "language": "python",
   "name": "python3"
  },
  "language_info": {
   "codemirror_mode": {
    "name": "ipython",
    "version": 3
   },
   "file_extension": ".py",
   "mimetype": "text/x-python",
   "name": "python",
   "nbconvert_exporter": "python",
   "pygments_lexer": "ipython3",
   "version": "3.11.4"
  }
 },
 "nbformat": 4,
 "nbformat_minor": 5
}
